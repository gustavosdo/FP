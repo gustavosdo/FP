{
 "cells": [
  {
   "cell_type": "code",
   "execution_count": 45,
   "id": "5b977c9e-c4a4-414d-8898-0e626431c570",
   "metadata": {},
   "outputs": [
    {
     "data": {
      "text/plain": [
       "['O', 'R', 'X', 'Z']"
      ]
     },
     "execution_count": 45,
     "metadata": {},
     "output_type": "execute_result"
    }
   ],
   "source": [
    "def separaString(string, n = 0):\n",
    "    \n",
    "    # Alfabeto completo\n",
    "    todasLetras = ['A','B','C','D','E','F','G','H','I','J','K','L','M','N','O','P','Q','R','S','T','U','V','W','X','Y','Z']\n",
    "    \n",
    "    # Testando casos triviais\n",
    "    if (string != None) and (string != \"\"):\n",
    "        # Caso tenhamos uma string não-trivial, checamos a presença de cada letra\n",
    "        n = 0\n",
    "        while len(todasLetras) != len(string):\n",
    "            # Se a letra estiver presente na string, pule para a próxima letra\n",
    "            if todasLetras[n] in string:\n",
    "                n = n + 1\n",
    "            # Caso não esteja, remova esta letra do conjunto (neste caso pular para a próxima significa manter n inalterado)\n",
    "            else:\n",
    "                del todasLetras[n]\n",
    "        return todasLetras\n",
    "    else:\n",
    "        return \"\"\n",
    "\n",
    "separaString(\"ZXOR\")"
   ]
  },
  {
   "cell_type": "code",
   "execution_count": 10,
   "id": "06fdcc04-3555-40a7-90f6-00dceb41e0a5",
   "metadata": {},
   "outputs": [
    {
     "data": {
      "text/plain": [
       "True"
      ]
     },
     "execution_count": 16,
     "metadata": {},
     "output_type": "execute_result"
    }
   ],
   "source": [
    "# Vetor de booleanos que determina que letras estão contidas na string\n",
    "    boolLetras = todasLetras.copy()\n",
    "    for ind in range(len(boolLetras)):\n",
    "        boolLetras[ind] = None\n",
    "\n",
    "    # Verificando que letras estão presentes na String:\n",
    "    for ind in range(len(string)):\n",
    "        if string[ind] in todasLetras:\n",
    "            indLetra = todasLetras.index(string[ind])\n",
    "            boolLetras[indLetra] = indLetra\n",
    "    print(boolLetras)\n",
    "    \n",
    "    # Selecionando apenas as letras presentes\n",
    "    #for ind in range(len(boolLetras)):\n",
    "    #    if boolLetras[ind] == False:\n",
    "    #        todasLetras[ind] = None\n",
    "    #    \n",
    "    del todasLetras[boolLetras]\n",
    "    return todasLetras\n",
    "\n",
    "\n",
    "\"A\" in [\"A\", \"B\"]"
   ]
  },
  {
   "cell_type": "code",
   "execution_count": 38,
   "id": "285a395a-a0de-4504-9f8c-2535f4529e47",
   "metadata": {},
   "outputs": [
    {
     "data": {
      "text/plain": [
       "False"
      ]
     },
     "execution_count": 38,
     "metadata": {},
     "output_type": "execute_result"
    }
   ],
   "source": [
    "\"A\" in \"BBBB\""
   ]
  },
  {
   "cell_type": "code",
   "execution_count": 55,
   "id": "584c5f36-ed22-4d57-8011-a12e4e261d49",
   "metadata": {},
   "outputs": [
    {
     "data": {
      "text/plain": [
       "[[None, None, None],\n",
       " [None, None, None],\n",
       " [None, None, None],\n",
       " [None, None, None],\n",
       " [None, None, None],\n",
       " [None, None, None]]"
      ]
     },
     "execution_count": 55,
     "metadata": {},
     "output_type": "execute_result"
    }
   ],
   "source": [
    "def fat(n):\n",
    "    if n < 2:\n",
    "        return 1\n",
    "    else:\n",
    "        return n * fat(n-1)\n",
    "    \n",
    "factorial(3)*[3*[None]]"
   ]
  },
  {
   "cell_type": "code",
   "execution_count": 63,
   "id": "8fa35fa6-c87b-4c78-b25d-30081c283e57",
   "metadata": {},
   "outputs": [
    {
     "name": "stdout",
     "output_type": "stream",
     "text": [
      "[1, 2]\n"
     ]
    }
   ],
   "source": [
    "iniArranjo = []\n",
    "for j in range(0, 2):\n",
    "    iniArranjo.append(j + 1)\n",
    "\n",
    "print(iniArranjo)"
   ]
  },
  {
   "cell_type": "code",
   "execution_count": 66,
   "id": "80875cbf-3beb-43ec-959e-acc0c8731c4f",
   "metadata": {},
   "outputs": [
    {
     "name": "stdout",
     "output_type": "stream",
     "text": [
      "AB\n",
      "BA\n"
     ]
    }
   ],
   "source": [
    "def permutations(string, step = 0):\n",
    "\n",
    "    # if we've gotten to the end, print the permutation\n",
    "    if step == len(string):\n",
    "        print(\"\".join(string))\n",
    "\n",
    "    # everything to the right of step has not been swapped yet\n",
    "    for i in range(step, len(string)):\n",
    "\n",
    "        # copy the string (store as array)\n",
    "        string_copy = [character for character in string]\n",
    "\n",
    "        # swap the current index with the step\n",
    "        string_copy[step], string_copy[i] = string_copy[i], string_copy[step]\n",
    "\n",
    "        # recurse on the portion of the string that has not been swapped yet (now it's index will begin with step + 1)\n",
    "        permutations(string_copy, step + 1)\n",
    "\n",
    "permutations('AB')"
   ]
  },
  {
   "cell_type": "code",
   "execution_count": 69,
   "id": "625b6c84-7c30-43db-b6ef-3888fd1f68d3",
   "metadata": {},
   "outputs": [
    {
     "data": {
      "text/plain": [
       "0"
      ]
     },
     "execution_count": 69,
     "metadata": {},
     "output_type": "execute_result"
    }
   ],
   "source": [
    "permutacao = [1,2,1]\n",
    "permutacao.index(1)"
   ]
  },
  {
   "cell_type": "code",
   "execution_count": null,
   "id": "b9393255-02a4-4a42-9eee-02dcf42f1d6d",
   "metadata": {},
   "outputs": [],
   "source": [
    "# Função para completar a sequência seguindo as regras estabelecidas na questão\n",
    "def achaSequencias(permutacoes):\n",
    "\n",
    "    # Sequências que respeitam as restrições impostas\n",
    "    sequencias = []\n",
    "\n",
    "    # Para cada permutação fazemos os cálculos dos índices onde ocorrem as repetições\n",
    "    for permutacao in permutacoes:\n",
    "\n",
    "        # Índices das repetições\n",
    "        indRepeticoes = []\n",
    "\n",
    "        # Criando uma sequência a partir da lista permutacao\n",
    "        sequencia = permutacao + len(permutacao) * [0]\n",
    "\n",
    "        # Índice da repetição para cada elemento\n",
    "        for ind in range(len(permutacao)):\n",
    "\n",
    "            # Obtendo elemento\n",
    "            elemento = permutacao[ind]\n",
    "\n",
    "            # Calculando repetição usando a restrição dada\n",
    "            indRepeticao = ind + elemento + 1\n",
    "\n",
    "            # Testando se o novo índice está dentro do domínio da sequência e\n",
    "            # se já há um elemento naquele novo índice\n",
    "            if (len(permutacao) - 1 < indRepeticao < 2 * len(permutacao)) and (indRepeticao not in indRepeticoes):\n",
    "                indRepeticoes.append(indRepeticao)\n",
    "                sequencia[indRepeticao] = elemento\n",
    "\n",
    "            print(sequencia)\n",
    "\n",
    "        # Adicionando a sequência à lista de sequências possíveis caso não haja problemas\n",
    "        if (0 not in sequencia):\n",
    "            sequencias.append(sequencia)\n",
    "\n",
    "    return sequencias\n",
    "# Fim da função que achaSequencias"
   ]
  },
  {
   "cell_type": "code",
   "execution_count": 75,
   "id": "e78ca4c5-7a07-4441-916a-80bc82719685",
   "metadata": {},
   "outputs": [
    {
     "name": "stdout",
     "output_type": "stream",
     "text": [
      "3\n",
      "3\n",
      "5\n",
      "5\n",
      "4\n",
      "4\n",
      "True\n"
     ]
    }
   ],
   "source": [
    "arranjo = [3, 1, 2, 1, 3, 2]\n",
    "\n",
    "restricoes = True\n",
    "\n",
    "for elm in range(1, int(len(arranjo)/2)+1): # percorrer apenas elementos únicos!!!\n",
    "    \n",
    "    indElm = []\n",
    "    for ind in range(len(arranjo)):\n",
    "        if arranjo[ind] == elm:\n",
    "            indElm.append(ind)\n",
    "            \n",
    "    # Índice da primeira vez que o elemento surge\n",
    "    indInicial = indElm[0]\n",
    "    \n",
    "    # Índice da repetição\n",
    "    indRepeticao = indElm[1]\n",
    "\n",
    "    # Para cada elemento, sua repetição deve ocorrer em indice + elemento + 1\n",
    "    print(indInicial+elm+1)\n",
    "    print(indRepeticao)\n",
    "    if (indInicial + elm + 1 != indRepeticao):\n",
    "        restricoes = False\n",
    "        \n",
    "print(restricoes)"
   ]
  },
  {
   "cell_type": "code",
   "execution_count": 72,
   "id": "0d636d88-1e87-48bb-912b-2883d7897a7c",
   "metadata": {},
   "outputs": [
    {
     "name": "stdout",
     "output_type": "stream",
     "text": [
      "1\n",
      "2\n",
      "3\n"
     ]
    }
   ],
   "source": [
    "for elm in range(1, int(len(arranjo)/2)+1):\n",
    "    print(elm)"
   ]
  }
 ],
 "metadata": {
  "kernelspec": {
   "display_name": "Python 3 (ipykernel)",
   "language": "python",
   "name": "python3"
  },
  "language_info": {
   "codemirror_mode": {
    "name": "ipython",
    "version": 3
   },
   "file_extension": ".py",
   "mimetype": "text/x-python",
   "name": "python",
   "nbconvert_exporter": "python",
   "pygments_lexer": "ipython3",
   "version": "3.9.7"
  }
 },
 "nbformat": 4,
 "nbformat_minor": 5
}
